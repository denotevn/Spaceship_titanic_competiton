{
 "cells": [
  {
   "cell_type": "code",
   "execution_count": 32,
   "metadata": {},
   "outputs": [
    {
     "data": {
      "text/plain": [
       "(  PassengerId HomePlanet CryoSleep  Cabin  Destination   Age    VIP  \\\n",
       " 0     0001_01     Europa     False  B/0/P  TRAPPIST-1e  39.0  False   \n",
       " 1     0002_01      Earth     False  F/0/S  TRAPPIST-1e  24.0  False   \n",
       " 2     0003_01     Europa     False  A/0/S  TRAPPIST-1e  58.0   True   \n",
       " 3     0003_02     Europa     False  A/0/S  TRAPPIST-1e  33.0  False   \n",
       " 4     0004_01      Earth     False  F/1/S  TRAPPIST-1e  16.0  False   \n",
       " \n",
       "    RoomService  FoodCourt  ShoppingMall     Spa  VRDeck               Name  \\\n",
       " 0          0.0        0.0           0.0     0.0     0.0    Maham Ofracculy   \n",
       " 1        109.0        9.0          25.0   549.0    44.0       Juanna Vines   \n",
       " 2         43.0     3576.0           0.0  6715.0    49.0      Altark Susent   \n",
       " 3          0.0     1283.0         371.0  3329.0   193.0       Solam Susent   \n",
       " 4        303.0       70.0         151.0   565.0     2.0  Willy Santantines   \n",
       " \n",
       "    Transported  \n",
       " 0        False  \n",
       " 1         True  \n",
       " 2        False  \n",
       " 3        False  \n",
       " 4         True  ,\n",
       "   PassengerId HomePlanet CryoSleep  Cabin  Destination   Age    VIP  \\\n",
       " 0     0013_01      Earth      True  G/3/S  TRAPPIST-1e  27.0  False   \n",
       " 1     0018_01      Earth     False  F/4/S  TRAPPIST-1e  19.0  False   \n",
       " 2     0019_01     Europa      True  C/0/S  55 Cancri e  31.0  False   \n",
       " 3     0021_01     Europa     False  C/1/S  TRAPPIST-1e  38.0  False   \n",
       " 4     0023_01      Earth     False  F/5/S  TRAPPIST-1e  20.0  False   \n",
       " \n",
       "    RoomService  FoodCourt  ShoppingMall     Spa  VRDeck              Name  \n",
       " 0          0.0        0.0           0.0     0.0     0.0   Nelly Carsoning  \n",
       " 1          0.0        9.0           0.0  2823.0     0.0    Lerome Peckers  \n",
       " 2          0.0        0.0           0.0     0.0     0.0   Sabih Unhearfus  \n",
       " 3          0.0     6652.0           0.0   181.0   585.0  Meratz Caltilter  \n",
       " 4         10.0        0.0         635.0     0.0     0.0   Brence Harperez  )"
      ]
     },
     "execution_count": 32,
     "metadata": {},
     "output_type": "execute_result"
    }
   ],
   "source": [
    "import pandas as pd\n",
    "import numpy as np\n",
    "train_titanic = pd.read_csv(\"/home/tuandinh/Desktop/ML and AI/Spaceship Titanic competiton/datasets/train.csv\")\n",
    "test_titanic = pd.read_csv(\"/home/tuandinh/Desktop/ML and AI/Spaceship Titanic competiton/datasets/test.csv\")\n",
    "train_titanic.head(), test_titanic.head()"
   ]
  },
  {
   "cell_type": "code",
   "execution_count": 33,
   "metadata": {},
   "outputs": [
    {
     "name": "stdout",
     "output_type": "stream",
     "text": [
      "<class 'pandas.core.frame.DataFrame'>\n",
      "RangeIndex: 8693 entries, 0 to 8692\n",
      "Data columns (total 14 columns):\n",
      " #   Column        Non-Null Count  Dtype  \n",
      "---  ------        --------------  -----  \n",
      " 0   PassengerId   8693 non-null   object \n",
      " 1   HomePlanet    8492 non-null   object \n",
      " 2   CryoSleep     8476 non-null   object \n",
      " 3   Cabin         8494 non-null   object \n",
      " 4   Destination   8511 non-null   object \n",
      " 5   Age           8514 non-null   float64\n",
      " 6   VIP           8490 non-null   object \n",
      " 7   RoomService   8512 non-null   float64\n",
      " 8   FoodCourt     8510 non-null   float64\n",
      " 9   ShoppingMall  8485 non-null   float64\n",
      " 10  Spa           8510 non-null   float64\n",
      " 11  VRDeck        8505 non-null   float64\n",
      " 12  Name          8493 non-null   object \n",
      " 13  Transported   8693 non-null   bool   \n",
      "dtypes: bool(1), float64(6), object(7)\n",
      "memory usage: 891.5+ KB\n"
     ]
    }
   ],
   "source": [
    "train_titanic.info()"
   ]
  },
  {
   "cell_type": "code",
   "execution_count": 34,
   "metadata": {},
   "outputs": [
    {
     "data": {
      "text/plain": [
       "PassengerId       0\n",
       "HomePlanet      201\n",
       "CryoSleep       217\n",
       "Cabin           199\n",
       "Destination     182\n",
       "Age             179\n",
       "VIP             203\n",
       "RoomService     181\n",
       "FoodCourt       183\n",
       "ShoppingMall    208\n",
       "Spa             183\n",
       "VRDeck          188\n",
       "Name            200\n",
       "Transported       0\n",
       "dtype: int64"
      ]
     },
     "execution_count": 34,
     "metadata": {},
     "output_type": "execute_result"
    }
   ],
   "source": [
    "train_titanic.isnull().sum()"
   ]
  },
  {
   "cell_type": "markdown",
   "metadata": {},
   "source": [
    "### **Features scalling data**"
   ]
  },
  {
   "cell_type": "code",
   "execution_count": 35,
   "metadata": {},
   "outputs": [
    {
     "name": "stdout",
     "output_type": "stream",
     "text": [
      "7 8 9 10 11\n"
     ]
    }
   ],
   "source": [
    "col_names = \"RoomService\", \"FoodCourt\",\"ShoppingMall\",\"Spa\",\"VRDeck\"\n",
    "roomservice_ix, foodcourt_ix, shopping_ix, spa_ix, vrCheck_ix = [\n",
    "    train_titanic.columns.get_loc(c) for c in col_names] # get the column indices\n",
    "print(roomservice_ix, foodcourt_ix, shopping_ix, spa_ix, vrCheck_ix)"
   ]
  },
  {
   "cell_type": "code",
   "execution_count": 36,
   "metadata": {},
   "outputs": [
    {
     "data": {
      "text/plain": [
       "PassengerId                   0\n",
       "HomePlanet                  201\n",
       "CryoSleep                   217\n",
       "Cabin                       199\n",
       "Destination                 182\n",
       "Age                         179\n",
       "VIP                         203\n",
       "RoomService                 181\n",
       "FoodCourt                   183\n",
       "ShoppingMall                208\n",
       "Spa                         183\n",
       "VRDeck                      188\n",
       "Name                        200\n",
       "Transported                   0\n",
       "spending_money_of_person    908\n",
       "dtype: int64"
      ]
     },
     "execution_count": 36,
     "metadata": {},
     "output_type": "execute_result"
    }
   ],
   "source": [
    "import math\n",
    "from sklearn.base import BaseEstimator, TransformerMixin\n",
    "attribs_spending_money = [7,8,9,10,11]\n",
    "# roomservice_ix, foodcourt_ix, shopping_ix, spa_ix, vrCheck_ix = 7,8,9,10,11\n",
    "class CombineSpendingMoneyOfPerson(BaseEstimator, TransformerMixin):\n",
    "    def __init__(self):\n",
    "        pass\n",
    "    def fit(self, X, y=None):\n",
    "        return self\n",
    "    def transform(self, X):\n",
    "        array = np.zeros(len(X)) # mang mot cot toan so 0\n",
    "        for ele in range(len(X)):\n",
    "            for i in attribs_spending_money:\n",
    "                if ~math.isnan(X[ele][i]):\n",
    "                    array[ele] += (X[ele][i])\n",
    "        return np.c_[X,array]\n",
    "\n",
    "# function for add feature [\"spen_money_of_person\"]\n",
    "def feature_scalling_dataset(train, test, drop=None):\n",
    "    attr_adder = CombineSpendingMoneyOfPerson()\n",
    "    # Dataset with added columns [\"spending_money_of_person\"]\n",
    "    train_titanic_extra_attribs = attr_adder.transform(train.values)\n",
    "    test_titanic_extra_attribs = attr_adder.transform(test.values)\n",
    "    train_titanic_extra_attribs = pd.DataFrame(train_titanic_extra_attribs,\n",
    "                            columns=list(train) + [\"spending_money_of_person\"],\n",
    "                            index= train.index)\n",
    "    test_titanic_extra_attribs = pd.DataFrame(test_titanic_extra_attribs,\n",
    "                            columns=list(test) + [\"spending_money_of_person\"],\n",
    "                            index= test.index)\n",
    "    return train_titanic_extra_attribs, test_titanic_extra_attribs\n",
    "train_titanic_1, test_titanic_1 = feature_scalling_dataset(train_titanic, test_titanic)\n",
    "train_titanic_1.isnull().sum()"
   ]
  },
  {
   "cell_type": "code",
   "execution_count": 37,
   "metadata": {},
   "outputs": [],
   "source": [
    "# Split columns [\"Cabin\"] to [\"Deck\",\"Side\"]\n",
    "def deck_side_encode(data):\n",
    "    split_cabin = pd.DataFrame(list(map(lambda x: str(x).split(\"/\"), data.Cabin)))\n",
    "    new_data = data.copy()\n",
    "    new_data[\"Side\"] = split_cabin[2]\n",
    "    new_data[\"Deck\"] = split_cabin[0]\n",
    "    new_data = new_data.drop(\"Cabin\", axis=1)\n",
    "    return new_data"
   ]
  },
  {
   "cell_type": "code",
   "execution_count": 38,
   "metadata": {},
   "outputs": [],
   "source": [
    "attribs_num = [\"Age\",\"RoomService\",\"FoodCourt\",\"ShoppingMall\",\"Spa\",\"VRDeck\",\"spending_money_of_person\"]\n",
    "attribs_cat = [\"HomePlanet\", \"Destination\", \"Cabin\"]\n",
    "attribs_cat_bool = [\"CryoSleep\", \"VIP\"]"
   ]
  },
  {
   "cell_type": "markdown",
   "metadata": {},
   "source": [
    "### **Handle Data**"
   ]
  },
  {
   "cell_type": "code",
   "execution_count": 39,
   "metadata": {},
   "outputs": [],
   "source": [
    "from sklearn.impute import SimpleImputer\n",
    "def prepare_data(train, test, drop=None):\n",
    "    train, test = feature_scalling_dataset(train, test)\n",
    "    # delete columns Name and PassengerId\n",
    "    train = train.drop([\"Name\", \"PassengerId\"], axis=1)\n",
    "    test = test.drop([\"Name\", \"PassengerId\"], axis=1)\n",
    "    # missing value\n",
    "    imputer = SimpleImputer(strategy=\"mean\")\n",
    "    imputer_cat_bool = SimpleImputer(strategy=\"most_frequent\")\n",
    "    train[attribs_num] = imputer.fit_transform(train[attribs_num])\n",
    "    test[attribs_num] = imputer.fit_transform(test[attribs_num])\n",
    "    train[attribs_cat_bool] = imputer_cat_bool.fit_transform(train[attribs_cat_bool])\n",
    "    test[attribs_cat_bool] = imputer_cat_bool.fit_transform(test[attribs_cat_bool])\n",
    "    train[attribs_cat] = imputer_cat_bool.fit_transform(train[attribs_cat])\n",
    "    test[attribs_cat] = imputer_cat_bool.fit_transform(test[attribs_cat])\n",
    "    train_titan_encoder = pd.get_dummies(deck_side_encode(train), dummy_na=True, columns=[\"HomePlanet\",\"Destination\",\"Deck\",\"Side\"])\n",
    "    test_titan_encoder = pd.get_dummies(deck_side_encode(test), dummy_na=True, columns=[\"HomePlanet\",\"Destination\",\"Deck\",\"Side\"])\n",
    "    # Handle features\n",
    "    #train data\n",
    "    train_titan_encoder[\"CryoSleep\"] = train_titan_encoder[\"CryoSleep\"].astype(int)\n",
    "    train_titan_encoder[\"VIP\"] = train_titan_encoder[\"VIP\"].astype(int)\n",
    "    train_titan_encoder[\"Transported\"] = train_titan_encoder[\"Transported\"].astype(int)\n",
    "    # test data\n",
    "    test_titan_encoder[\"CryoSleep\"] = test_titan_encoder[\"CryoSleep\"].astype(int)\n",
    "    test_titan_encoder[\"VIP\"] = test_titan_encoder[\"VIP\"].astype(int)\n",
    "    # test_titan_encoder[\"Transported\"] = test_titan_encoder[\"Transported\"].astype(int)\n",
    "    return train_titan_encoder, test_titan_encoder"
   ]
  },
  {
   "cell_type": "code",
   "execution_count": 40,
   "metadata": {},
   "outputs": [],
   "source": [
    "train_prep, test_prep = prepare_data(train_titanic, test_titanic)"
   ]
  },
  {
   "cell_type": "code",
   "execution_count": 41,
   "metadata": {},
   "outputs": [
    {
     "data": {
      "text/plain": [
       "CryoSleep                    0\n",
       "Age                          0\n",
       "VIP                          0\n",
       "RoomService                  0\n",
       "FoodCourt                    0\n",
       "ShoppingMall                 0\n",
       "Spa                          0\n",
       "VRDeck                       0\n",
       "Transported                  0\n",
       "spending_money_of_person     0\n",
       "HomePlanet_Earth             0\n",
       "HomePlanet_Europa            0\n",
       "HomePlanet_Mars              0\n",
       "HomePlanet_nan               0\n",
       "Destination_55 Cancri e      0\n",
       "Destination_PSO J318.5-22    0\n",
       "Destination_TRAPPIST-1e      0\n",
       "Destination_nan              0\n",
       "Deck_A                       0\n",
       "Deck_B                       0\n",
       "Deck_C                       0\n",
       "Deck_D                       0\n",
       "Deck_E                       0\n",
       "Deck_F                       0\n",
       "Deck_G                       0\n",
       "Deck_T                       0\n",
       "Deck_nan                     0\n",
       "Side_P                       0\n",
       "Side_S                       0\n",
       "Side_nan                     0\n",
       "dtype: int64"
      ]
     },
     "execution_count": 41,
     "metadata": {},
     "output_type": "execute_result"
    }
   ],
   "source": [
    "train_prep.isnull().sum()"
   ]
  },
  {
   "cell_type": "code",
   "execution_count": 42,
   "metadata": {},
   "outputs": [
    {
     "data": {
      "text/html": [
       "<div>\n",
       "<style scoped>\n",
       "    .dataframe tbody tr th:only-of-type {\n",
       "        vertical-align: middle;\n",
       "    }\n",
       "\n",
       "    .dataframe tbody tr th {\n",
       "        vertical-align: top;\n",
       "    }\n",
       "\n",
       "    .dataframe thead th {\n",
       "        text-align: right;\n",
       "    }\n",
       "</style>\n",
       "<table border=\"1\" class=\"dataframe\">\n",
       "  <thead>\n",
       "    <tr style=\"text-align: right;\">\n",
       "      <th></th>\n",
       "      <th>CryoSleep</th>\n",
       "      <th>Age</th>\n",
       "      <th>VIP</th>\n",
       "      <th>RoomService</th>\n",
       "      <th>FoodCourt</th>\n",
       "      <th>ShoppingMall</th>\n",
       "      <th>Spa</th>\n",
       "      <th>VRDeck</th>\n",
       "      <th>Transported</th>\n",
       "      <th>spending_money_of_person</th>\n",
       "      <th>...</th>\n",
       "      <th>Deck_C</th>\n",
       "      <th>Deck_D</th>\n",
       "      <th>Deck_E</th>\n",
       "      <th>Deck_F</th>\n",
       "      <th>Deck_G</th>\n",
       "      <th>Deck_T</th>\n",
       "      <th>Deck_nan</th>\n",
       "      <th>Side_P</th>\n",
       "      <th>Side_S</th>\n",
       "      <th>Side_nan</th>\n",
       "    </tr>\n",
       "  </thead>\n",
       "  <tbody>\n",
       "    <tr>\n",
       "      <th>0</th>\n",
       "      <td>0</td>\n",
       "      <td>39.0</td>\n",
       "      <td>0</td>\n",
       "      <td>0.0</td>\n",
       "      <td>0.0</td>\n",
       "      <td>0.0</td>\n",
       "      <td>0.0</td>\n",
       "      <td>0.0</td>\n",
       "      <td>0</td>\n",
       "      <td>0.0</td>\n",
       "      <td>...</td>\n",
       "      <td>0</td>\n",
       "      <td>0</td>\n",
       "      <td>0</td>\n",
       "      <td>0</td>\n",
       "      <td>0</td>\n",
       "      <td>0</td>\n",
       "      <td>0</td>\n",
       "      <td>1</td>\n",
       "      <td>0</td>\n",
       "      <td>0</td>\n",
       "    </tr>\n",
       "    <tr>\n",
       "      <th>1</th>\n",
       "      <td>0</td>\n",
       "      <td>24.0</td>\n",
       "      <td>0</td>\n",
       "      <td>109.0</td>\n",
       "      <td>9.0</td>\n",
       "      <td>25.0</td>\n",
       "      <td>549.0</td>\n",
       "      <td>44.0</td>\n",
       "      <td>1</td>\n",
       "      <td>736.0</td>\n",
       "      <td>...</td>\n",
       "      <td>0</td>\n",
       "      <td>0</td>\n",
       "      <td>0</td>\n",
       "      <td>1</td>\n",
       "      <td>0</td>\n",
       "      <td>0</td>\n",
       "      <td>0</td>\n",
       "      <td>0</td>\n",
       "      <td>1</td>\n",
       "      <td>0</td>\n",
       "    </tr>\n",
       "    <tr>\n",
       "      <th>2</th>\n",
       "      <td>0</td>\n",
       "      <td>58.0</td>\n",
       "      <td>1</td>\n",
       "      <td>43.0</td>\n",
       "      <td>3576.0</td>\n",
       "      <td>0.0</td>\n",
       "      <td>6715.0</td>\n",
       "      <td>49.0</td>\n",
       "      <td>0</td>\n",
       "      <td>10383.0</td>\n",
       "      <td>...</td>\n",
       "      <td>0</td>\n",
       "      <td>0</td>\n",
       "      <td>0</td>\n",
       "      <td>0</td>\n",
       "      <td>0</td>\n",
       "      <td>0</td>\n",
       "      <td>0</td>\n",
       "      <td>0</td>\n",
       "      <td>1</td>\n",
       "      <td>0</td>\n",
       "    </tr>\n",
       "    <tr>\n",
       "      <th>3</th>\n",
       "      <td>0</td>\n",
       "      <td>33.0</td>\n",
       "      <td>0</td>\n",
       "      <td>0.0</td>\n",
       "      <td>1283.0</td>\n",
       "      <td>371.0</td>\n",
       "      <td>3329.0</td>\n",
       "      <td>193.0</td>\n",
       "      <td>0</td>\n",
       "      <td>5176.0</td>\n",
       "      <td>...</td>\n",
       "      <td>0</td>\n",
       "      <td>0</td>\n",
       "      <td>0</td>\n",
       "      <td>0</td>\n",
       "      <td>0</td>\n",
       "      <td>0</td>\n",
       "      <td>0</td>\n",
       "      <td>0</td>\n",
       "      <td>1</td>\n",
       "      <td>0</td>\n",
       "    </tr>\n",
       "    <tr>\n",
       "      <th>4</th>\n",
       "      <td>0</td>\n",
       "      <td>16.0</td>\n",
       "      <td>0</td>\n",
       "      <td>303.0</td>\n",
       "      <td>70.0</td>\n",
       "      <td>151.0</td>\n",
       "      <td>565.0</td>\n",
       "      <td>2.0</td>\n",
       "      <td>1</td>\n",
       "      <td>1091.0</td>\n",
       "      <td>...</td>\n",
       "      <td>0</td>\n",
       "      <td>0</td>\n",
       "      <td>0</td>\n",
       "      <td>1</td>\n",
       "      <td>0</td>\n",
       "      <td>0</td>\n",
       "      <td>0</td>\n",
       "      <td>0</td>\n",
       "      <td>1</td>\n",
       "      <td>0</td>\n",
       "    </tr>\n",
       "  </tbody>\n",
       "</table>\n",
       "<p>5 rows × 30 columns</p>\n",
       "</div>"
      ],
      "text/plain": [
       "   CryoSleep   Age  VIP  RoomService  FoodCourt  ShoppingMall     Spa  VRDeck  \\\n",
       "0          0  39.0    0          0.0        0.0           0.0     0.0     0.0   \n",
       "1          0  24.0    0        109.0        9.0          25.0   549.0    44.0   \n",
       "2          0  58.0    1         43.0     3576.0           0.0  6715.0    49.0   \n",
       "3          0  33.0    0          0.0     1283.0         371.0  3329.0   193.0   \n",
       "4          0  16.0    0        303.0       70.0         151.0   565.0     2.0   \n",
       "\n",
       "   Transported  spending_money_of_person  ...  Deck_C  Deck_D  Deck_E  Deck_F  \\\n",
       "0            0                       0.0  ...       0       0       0       0   \n",
       "1            1                     736.0  ...       0       0       0       1   \n",
       "2            0                   10383.0  ...       0       0       0       0   \n",
       "3            0                    5176.0  ...       0       0       0       0   \n",
       "4            1                    1091.0  ...       0       0       0       1   \n",
       "\n",
       "   Deck_G  Deck_T  Deck_nan  Side_P  Side_S  Side_nan  \n",
       "0       0       0         0       1       0         0  \n",
       "1       0       0         0       0       1         0  \n",
       "2       0       0         0       0       1         0  \n",
       "3       0       0         0       0       1         0  \n",
       "4       0       0         0       0       1         0  \n",
       "\n",
       "[5 rows x 30 columns]"
      ]
     },
     "execution_count": 42,
     "metadata": {},
     "output_type": "execute_result"
    }
   ],
   "source": [
    "train_prep.head()"
   ]
  },
  {
   "cell_type": "code",
   "execution_count": null,
   "metadata": {},
   "outputs": [],
   "source": []
  }
 ],
 "metadata": {
  "kernelspec": {
   "display_name": "Python 3.8.10 ('tuanenv': venv)",
   "language": "python",
   "name": "python3"
  },
  "language_info": {
   "codemirror_mode": {
    "name": "ipython",
    "version": 3
   },
   "file_extension": ".py",
   "mimetype": "text/x-python",
   "name": "python",
   "nbconvert_exporter": "python",
   "pygments_lexer": "ipython3",
   "version": "3.8.10"
  },
  "orig_nbformat": 4,
  "vscode": {
   "interpreter": {
    "hash": "2e46fc137f5f8158664aaff2d41d86c60866eadd13c890c571bbb594e9e08c12"
   }
  }
 },
 "nbformat": 4,
 "nbformat_minor": 2
}
